{
 "cells": [
  {
   "cell_type": "markdown",
   "id": "3eb78ef0",
   "metadata": {},
   "source": [
    "### H5にBestKSelectで列を絞ったdataを保存する"
   ]
  },
  {
   "cell_type": "code",
   "execution_count": 1,
   "id": "87d82b15",
   "metadata": {},
   "outputs": [],
   "source": [
    "# lastとlast_diff を特徴量に追加\n",
    "# 特徴量選択の数を調査した結果を反映"
   ]
  },
  {
   "cell_type": "code",
   "execution_count": 1,
   "id": "e9467701",
   "metadata": {},
   "outputs": [],
   "source": [
    "import gc\n",
    "import numpy as np \n",
    "import pandas as pd\n",
    "\n",
    "# pd.set_option('display.max_rows', 500)\n",
    "pd.set_option('display.max_columns', 500)\n",
    "\n"
   ]
  },
  {
   "cell_type": "code",
   "execution_count": 3,
   "id": "58870910",
   "metadata": {},
   "outputs": [
    {
     "name": "stdout",
     "output_type": "stream",
     "text": [
      "CPU times: user 1.51 s, sys: 4.01 s, total: 5.52 s\n",
      "Wall time: 6.29 s\n"
     ]
    },
    {
     "data": {
      "text/plain": [
       "51"
      ]
     },
     "execution_count": 3,
     "metadata": {},
     "output_type": "execute_result"
    }
   ],
   "source": [
    "%%time\n",
    "h5File = \"temp_data/h5/selectkbest_data_with_last.h5\";\n",
    "key_train = 'bestkselect_01/train';\n",
    "key_valid = 'bestkselect_01/valid';\n",
    "key_test = 'bestkselect_01/test';\n",
    "\n",
    "train = pd.read_hdf(h5File, key_train); gc.collect();\n",
    "valid = pd.read_hdf(h5File, key_valid); gc.collect();\n",
    "test = pd.read_hdf(h5File, key_test); gc.collect();\n"
   ]
  },
  {
   "cell_type": "code",
   "execution_count": 4,
   "id": "d3b5aca8",
   "metadata": {},
   "outputs": [],
   "source": [
    "from sklearn.preprocessing import StandardScaler\n",
    "scaler = StandardScaler()\n"
   ]
  },
  {
   "cell_type": "code",
   "execution_count": 5,
   "id": "5466a322",
   "metadata": {},
   "outputs": [
    {
     "name": "stdout",
     "output_type": "stream",
     "text": [
      "CPU times: user 8.58 s, sys: 4.58 s, total: 13.2 s\n",
      "Wall time: 13.7 s\n"
     ]
    },
    {
     "data": {
      "text/plain": [
       "16"
      ]
     },
     "execution_count": 5,
     "metadata": {},
     "output_type": "execute_result"
    }
   ],
   "source": [
    "%%time\n",
    "train_scaled = scaler.fit_transform(train)\n",
    "gc.collect()"
   ]
  },
  {
   "cell_type": "code",
   "execution_count": 6,
   "id": "2aad4526",
   "metadata": {},
   "outputs": [
    {
     "name": "stdout",
     "output_type": "stream",
     "text": [
      "CPU times: user 20.9 s, sys: 26 s, total: 46.9 s\n",
      "Wall time: 1min 4s\n"
     ]
    },
    {
     "data": {
      "text/plain": [
       "16"
      ]
     },
     "execution_count": 6,
     "metadata": {},
     "output_type": "execute_result"
    }
   ],
   "source": [
    "%%time\n",
    "test_scaled = scaler.fit_transform(test)\n",
    "gc.collect()"
   ]
  },
  {
   "cell_type": "code",
   "execution_count": 13,
   "id": "53141614",
   "metadata": {},
   "outputs": [
    {
     "name": "stdout",
     "output_type": "stream",
     "text": [
      "CPU times: user 6.3 s, sys: 24.4 s, total: 30.7 s\n",
      "Wall time: 53.1 s\n"
     ]
    },
    {
     "data": {
      "text/plain": [
       "0"
      ]
     },
     "execution_count": 13,
     "metadata": {},
     "output_type": "execute_result"
    }
   ],
   "source": [
    "%%time\n",
    "h5File = \"temp_data/h5/selectkbest_data_with_last_scaled.h5\";\n",
    "key_train = 'bestkselect_01_scaled/train';\n",
    "key_test = 'bestkselect_01_scaled/test';\n",
    "\n",
    "import h5py\n",
    "with h5py.File(h5File, 'w') as f:\n",
    "    f.create_dataset(key_train, data=train_scaled)\n",
    "    f.create_dataset(key_test, data=test_scaled)\n",
    " "
   ]
  },
  {
   "cell_type": "code",
   "execution_count": null,
   "id": "67330405",
   "metadata": {},
   "outputs": [],
   "source": []
  },
  {
   "cell_type": "code",
   "execution_count": null,
   "id": "3d1d7771",
   "metadata": {},
   "outputs": [],
   "source": []
  },
  {
   "cell_type": "code",
   "execution_count": 2,
   "id": "1c5841d7",
   "metadata": {},
   "outputs": [
    {
     "name": "stdout",
     "output_type": "stream",
     "text": [
      "CPU times: user 100 ms, sys: 5.25 s, total: 5.35 s\n",
      "Wall time: 7.69 s\n"
     ]
    },
    {
     "data": {
      "text/plain": [
       "0"
      ]
     },
     "execution_count": 2,
     "metadata": {},
     "output_type": "execute_result"
    }
   ],
   "source": [
    "%%time\n",
    "h5File = \"temp_data/h5/selectkbest_data_with_last_scaled.h5\";\n",
    "key_train = 'bestkselect_01_scaled/train';\n",
    "key_test = 'bestkselect_01_scaled/test';\n",
    "\n",
    "import h5py\n",
    "with h5py.File(h5File, 'r') as f:\n",
    "    train_scaled = f[key_train][()]\n",
    "    test_scaled = f[key_test][()]\n",
    " "
   ]
  },
  {
   "cell_type": "code",
   "execution_count": 3,
   "id": "28bcee41",
   "metadata": {},
   "outputs": [
    {
     "data": {
      "text/plain": [
       "array([[ 1.11583822,  1.11435213,  1.20096211, ..., -0.45817357,\n",
       "        -0.279169  , -0.2652566 ],\n",
       "       [ 1.0882425 ,  0.97370043,  1.0596229 , ..., -0.46482356,\n",
       "        -0.27926235, -0.2652566 ],\n",
       "       [ 0.85390427,  0.86284162,  0.97081747, ..., -0.46767098,\n",
       "        -0.30505839, -0.2652566 ],\n",
       "       ...,\n",
       "       [-0.17022007, -0.16011366, -0.2586775 , ..., -0.45577869,\n",
       "        -0.30358875, -0.2652566 ],\n",
       "       [ 0.49325928,  0.61292806,  0.42908658, ..., -0.47193875,\n",
       "        -0.31628235, -0.2652566 ],\n",
       "       [-1.05572325, -1.40779946, -1.14807359, ..., -0.45082266,\n",
       "        -0.28310535, -0.2652566 ]])"
      ]
     },
     "execution_count": 3,
     "metadata": {},
     "output_type": "execute_result"
    }
   ],
   "source": [
    "train_scaled"
   ]
  },
  {
   "cell_type": "code",
   "execution_count": 4,
   "id": "c22cc561",
   "metadata": {},
   "outputs": [
    {
     "data": {
      "text/plain": [
       "array([[-0.00606489, -0.39506458, -0.20228943, ..., -0.44786823,\n",
       "        -0.30564803, -1.61889867],\n",
       "       [ 0.81908089,  0.87997738,  0.87938893, ..., -0.46623598,\n",
       "        -0.28280303, -0.96428059],\n",
       "       [ 0.37509048,  0.52578741,  0.40980289, ...,  2.19039217,\n",
       "         0.13930594,  0.99957365],\n",
       "       ...,\n",
       "       [-1.3716497 , -1.81686954, -1.7051324 , ..., -0.45052306,\n",
       "        -0.31115463, -0.96428059],\n",
       "       [-0.11654927, -0.56381887, -0.37436228, ..., -0.46186255,\n",
       "        -0.28690667, -0.96428059],\n",
       "       [-0.53978623, -1.16764544, -0.85175708, ..., -0.45178576,\n",
       "        -0.30603294,  0.67226461]])"
      ]
     },
     "execution_count": 4,
     "metadata": {},
     "output_type": "execute_result"
    }
   ],
   "source": [
    "test_scaled"
   ]
  },
  {
   "cell_type": "code",
   "execution_count": null,
   "id": "4eee407a",
   "metadata": {},
   "outputs": [],
   "source": []
  }
 ],
 "metadata": {
  "kernelspec": {
   "display_name": "Python 3 (ipykernel)",
   "language": "python",
   "name": "python3"
  },
  "language_info": {
   "codemirror_mode": {
    "name": "ipython",
    "version": 3
   },
   "file_extension": ".py",
   "mimetype": "text/x-python",
   "name": "python",
   "nbconvert_exporter": "python",
   "pygments_lexer": "ipython3",
   "version": "3.10.4"
  }
 },
 "nbformat": 4,
 "nbformat_minor": 5
}
