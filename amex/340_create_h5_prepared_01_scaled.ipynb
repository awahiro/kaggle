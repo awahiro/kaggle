{
 "cells": [
  {
   "cell_type": "markdown",
   "id": "3eb78ef0",
   "metadata": {},
   "source": [
    "### H5にBestKSelectで列を絞ったdataを保存する"
   ]
  },
  {
   "cell_type": "code",
   "execution_count": 1,
   "id": "87d82b15",
   "metadata": {},
   "outputs": [],
   "source": [
    "# lastとlast_diff を特徴量に追加\n",
    "# 特徴量選択の数を調査した結果を反映"
   ]
  },
  {
   "cell_type": "code",
   "execution_count": 2,
   "id": "e9467701",
   "metadata": {},
   "outputs": [],
   "source": [
    "import gc\n",
    "import numpy as np \n",
    "import pandas as pd\n",
    "\n",
    "# pd.set_option('display.max_rows', 500)\n",
    "pd.set_option('display.max_columns', 500)\n",
    "\n"
   ]
  },
  {
   "cell_type": "code",
   "execution_count": 3,
   "id": "58870910",
   "metadata": {},
   "outputs": [
    {
     "name": "stdout",
     "output_type": "stream",
     "text": [
      "CPU times: user 1.83 s, sys: 16.4 s, total: 18.3 s\n",
      "Wall time: 22.2 s\n"
     ]
    },
    {
     "data": {
      "text/plain": [
       "51"
      ]
     },
     "execution_count": 3,
     "metadata": {},
     "output_type": "execute_result"
    }
   ],
   "source": [
    "%%time\n",
    "h5File = \"temp_data/h5/prepared_data_with_last.h5\";\n",
    "key_train = 'prepared_01/train';\n",
    "key_valid = 'prepared_01/valid';\n",
    "key_test = 'prepared_01/test';\n",
    "\n",
    "train = pd.read_hdf(h5File, key_train); gc.collect();\n",
    "valid = pd.read_hdf(h5File, key_valid); gc.collect();\n",
    "test = pd.read_hdf(h5File, key_test); gc.collect();\n"
   ]
  },
  {
   "cell_type": "code",
   "execution_count": 4,
   "id": "d3b5aca8",
   "metadata": {},
   "outputs": [],
   "source": [
    "from sklearn.preprocessing import StandardScaler\n",
    "scaler = StandardScaler()\n"
   ]
  },
  {
   "cell_type": "code",
   "execution_count": 5,
   "id": "5466a322",
   "metadata": {},
   "outputs": [
    {
     "name": "stdout",
     "output_type": "stream",
     "text": [
      "CPU times: user 31.9 s, sys: 35.5 s, total: 1min 7s\n",
      "Wall time: 1min 35s\n"
     ]
    },
    {
     "data": {
      "text/plain": [
       "16"
      ]
     },
     "execution_count": 5,
     "metadata": {},
     "output_type": "execute_result"
    }
   ],
   "source": [
    "%%time\n",
    "train_scaled = scaler.fit_transform(train)\n",
    "gc.collect()"
   ]
  },
  {
   "cell_type": "code",
   "execution_count": 6,
   "id": "2aad4526",
   "metadata": {},
   "outputs": [
    {
     "name": "stdout",
     "output_type": "stream",
     "text": [
      "CPU times: user 1min 24s, sys: 3min 27s, total: 4min 52s\n",
      "Wall time: 10min 49s\n"
     ]
    },
    {
     "data": {
      "text/plain": [
       "16"
      ]
     },
     "execution_count": 6,
     "metadata": {},
     "output_type": "execute_result"
    }
   ],
   "source": [
    "%%time\n",
    "test_scaled = scaler.fit_transform(test)\n",
    "gc.collect()"
   ]
  },
  {
   "cell_type": "code",
   "execution_count": 7,
   "id": "53141614",
   "metadata": {},
   "outputs": [
    {
     "name": "stdout",
     "output_type": "stream",
     "text": [
      "CPU times: user 29.3 s, sys: 2min 6s, total: 2min 35s\n",
      "Wall time: 1h 30min 52s\n"
     ]
    },
    {
     "data": {
      "text/plain": [
       "0"
      ]
     },
     "execution_count": 7,
     "metadata": {},
     "output_type": "execute_result"
    }
   ],
   "source": [
    "%%time\n",
    "h5File = \"temp_data/h5/prepared_data_with_last_scaled.h5\";\n",
    "key_train = 'prepared_01_scaled/train';\n",
    "key_test = 'prepared_01_scaled/test';\n",
    "\n",
    "import h5py\n",
    "with h5py.File(h5File, 'w') as f:\n",
    "    f.create_dataset(key_train, data=train_scaled)\n",
    "    f.create_dataset(key_test, data=test_scaled)\n",
    " "
   ]
  },
  {
   "cell_type": "code",
   "execution_count": null,
   "id": "67330405",
   "metadata": {},
   "outputs": [],
   "source": [
    "gc.collect();"
   ]
  },
  {
   "cell_type": "code",
   "execution_count": 3,
   "id": "1c5841d7",
   "metadata": {},
   "outputs": [
    {
     "name": "stdout",
     "output_type": "stream",
     "text": [
      "CPU times: user 138 ms, sys: 12.3 s, total: 12.5 s\n",
      "Wall time: 18 s\n"
     ]
    },
    {
     "data": {
      "text/plain": [
       "0"
      ]
     },
     "execution_count": 3,
     "metadata": {},
     "output_type": "execute_result"
    }
   ],
   "source": [
    "%%time\n",
    "h5File = \"temp_data/h5/prepared_data_with_last_scaled.h5\";\n",
    "key_train = 'prepared_01_scaled/train';\n",
    "key_test = 'prepared_01_scaled/test';\n",
    "\n",
    "import h5py\n",
    "with h5py.File(h5File, 'r') as f:\n",
    "    train_scaled = f[key_train][()]\n",
    "    test_scaled = f[key_test][()]\n"
   ]
  },
  {
   "cell_type": "code",
   "execution_count": 4,
   "id": "28bcee41",
   "metadata": {},
   "outputs": [
    {
     "data": {
      "text/plain": [
       "array([[ 0.36265354,  0.39385913,  1.11583822, ...,  0.        ,\n",
       "         0.        , -0.4020601 ],\n",
       "       [ 0.36265354,  0.6433764 ,  1.0882425 , ...,  0.        ,\n",
       "         0.        ,  0.98608311],\n",
       "       [ 0.36265354,  0.35643154,  0.85390427, ...,  0.        ,\n",
       "         0.        , -0.5177387 ],\n",
       "       ...,\n",
       "       [ 0.36265354,  0.34395568, -0.17022007, ...,  0.        ,\n",
       "         0.        ,  1.44879752],\n",
       "       [ 0.36265354,  0.53109363,  0.49325928, ...,  0.        ,\n",
       "         0.        ,  1.44879752],\n",
       "       [ 0.36265354,  0.23167291, -1.05572325, ...,  0.        ,\n",
       "         0.        , -1.32748891]])"
      ]
     },
     "execution_count": 4,
     "metadata": {},
     "output_type": "execute_result"
    }
   ],
   "source": [
    "train_scaled"
   ]
  },
  {
   "cell_type": "code",
   "execution_count": 5,
   "id": "c22cc561",
   "metadata": {},
   "outputs": [
    {
     "data": {
      "text/plain": [
       "array([[-1.46026742, -1.5600248 , -0.00606489, ...,  0.        ,\n",
       "         1.01230887, -0.48339048],\n",
       "       [ 0.31503454,  0.20579944,  0.81908089, ...,  0.        ,\n",
       "        -0.9878408 , -0.13115613],\n",
       "       [ 0.31503454,  0.49292533,  0.37509048, ...,  0.        ,\n",
       "         1.01230887, -0.01374468],\n",
       "       ...,\n",
       "       [ 0.31503454,  0.19144315, -1.3716497 , ...,  0.        ,\n",
       "        -0.9878408 , -1.18785918],\n",
       "       [ 0.31503454,  0.3206498 , -0.11654927, ...,  0.        ,\n",
       "        -0.9878408 , -0.95303628],\n",
       "       [-1.9040929 , -1.89021958, -0.53978623, ...,  0.        ,\n",
       "        -0.9878408 ,  0.22107823]])"
      ]
     },
     "execution_count": 5,
     "metadata": {},
     "output_type": "execute_result"
    }
   ],
   "source": [
    "test_scaled"
   ]
  },
  {
   "cell_type": "code",
   "execution_count": null,
   "id": "4eee407a",
   "metadata": {},
   "outputs": [],
   "source": []
  }
 ],
 "metadata": {
  "kernelspec": {
   "display_name": "Python 3 (ipykernel)",
   "language": "python",
   "name": "python3"
  },
  "language_info": {
   "codemirror_mode": {
    "name": "ipython",
    "version": 3
   },
   "file_extension": ".py",
   "mimetype": "text/x-python",
   "name": "python",
   "nbconvert_exporter": "python",
   "pygments_lexer": "ipython3",
   "version": "3.10.4"
  }
 },
 "nbformat": 4,
 "nbformat_minor": 5
}
