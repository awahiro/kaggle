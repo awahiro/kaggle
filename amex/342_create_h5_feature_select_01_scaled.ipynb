{
 "cells": [
  {
   "cell_type": "markdown",
   "id": "3eb78ef0",
   "metadata": {},
   "source": [
    "### H5にFeature Selectで列を絞ったdataをscaleさせて保存する"
   ]
  },
  {
   "cell_type": "code",
   "execution_count": 1,
   "id": "87d82b15",
   "metadata": {},
   "outputs": [],
   "source": [
    "# lastとlast_diff を特徴量に追加\n",
    "# 特徴量選択の数を調査した結果を反映"
   ]
  },
  {
   "cell_type": "code",
   "execution_count": 2,
   "id": "e9467701",
   "metadata": {},
   "outputs": [],
   "source": [
    "import gc\n",
    "import numpy as np \n",
    "import pandas as pd\n",
    "\n",
    "# pd.set_option('display.max_rows', 500)\n",
    "pd.set_option('display.max_columns', 500)\n",
    "\n"
   ]
  },
  {
   "cell_type": "code",
   "execution_count": null,
   "id": "58870910",
   "metadata": {},
   "outputs": [],
   "source": [
    "%%time\n",
    "h5File = \"temp_data/h5/feature_select_data_with_last.h5\";\n",
    "key_train = 'feature_select_01/train';\n",
    "key_valid = 'feature_select_01/valid';\n",
    "key_test = 'feature_select_01/test';\n",
    "\n",
    "train = pd.read_hdf(h5File, key_train); gc.collect();\n",
    "valid = pd.read_hdf(h5File, key_valid); gc.collect();\n",
    "test = pd.read_hdf(h5File, key_test); gc.collect();\n"
   ]
  },
  {
   "cell_type": "code",
   "execution_count": null,
   "id": "d3b5aca8",
   "metadata": {},
   "outputs": [],
   "source": [
    "from sklearn.preprocessing import StandardScaler\n",
    "scaler = StandardScaler()\n"
   ]
  },
  {
   "cell_type": "code",
   "execution_count": null,
   "id": "5466a322",
   "metadata": {},
   "outputs": [],
   "source": [
    "%%time\n",
    "train_scaled = scaler.fit_transform(train)\n",
    "gc.collect()"
   ]
  },
  {
   "cell_type": "code",
   "execution_count": null,
   "id": "2aad4526",
   "metadata": {},
   "outputs": [],
   "source": [
    "%%time\n",
    "test_scaled = scaler.fit_transform(test)\n",
    "gc.collect()"
   ]
  },
  {
   "cell_type": "code",
   "execution_count": null,
   "id": "53141614",
   "metadata": {},
   "outputs": [],
   "source": [
    "%%time\n",
    "h5File = \"temp_data/h5/feature_select_data_with_last_scaled.h5\";\n",
    "key_train = 'feature_select_01_scaled/train';\n",
    "key_test = 'feature_select_01_scaled/test';\n",
    "\n",
    "import h5py\n",
    "with h5py.File(h5File, 'w') as f:\n",
    "    f.create_dataset(key_train, data=train_scaled)\n",
    "    f.create_dataset(key_test, data=test_scaled)\n",
    " "
   ]
  },
  {
   "cell_type": "code",
   "execution_count": null,
   "id": "67330405",
   "metadata": {},
   "outputs": [],
   "source": []
  },
  {
   "cell_type": "code",
   "execution_count": null,
   "id": "3d1d7771",
   "metadata": {},
   "outputs": [],
   "source": []
  },
  {
   "cell_type": "code",
   "execution_count": null,
   "id": "1c5841d7",
   "metadata": {},
   "outputs": [],
   "source": [
    "%%time\n",
    "h5File = \"temp_data/h5/feature_select_data_with_last_scaled.h5\";\n",
    "key_train = 'feature_select_01_scaled/train';\n",
    "key_test = 'feature_select_01_scaled/test';\n",
    "\n",
    "import h5py\n",
    "with h5py.File(h5File, 'r') as f:\n",
    "    train_scaled = f[key_train][()]\n",
    "    test_scaled = f[key_test][()]\n",
    " "
   ]
  },
  {
   "cell_type": "code",
   "execution_count": null,
   "id": "28bcee41",
   "metadata": {},
   "outputs": [],
   "source": [
    "train_scaled"
   ]
  },
  {
   "cell_type": "code",
   "execution_count": null,
   "id": "c22cc561",
   "metadata": {},
   "outputs": [],
   "source": [
    "test_scaled"
   ]
  },
  {
   "cell_type": "code",
   "execution_count": null,
   "id": "4eee407a",
   "metadata": {},
   "outputs": [],
   "source": []
  }
 ],
 "metadata": {
  "kernelspec": {
   "display_name": "Python 3 (ipykernel)",
   "language": "python",
   "name": "python3"
  },
  "language_info": {
   "codemirror_mode": {
    "name": "ipython",
    "version": 3
   },
   "file_extension": ".py",
   "mimetype": "text/x-python",
   "name": "python",
   "nbconvert_exporter": "python",
   "pygments_lexer": "ipython3",
   "version": "3.10.4"
  }
 },
 "nbformat": 4,
 "nbformat_minor": 5
}
